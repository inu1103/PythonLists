{
 "cells": [
  {
   "cell_type": "markdown",
   "id": "95599681",
   "metadata": {},
   "source": [
    "### Task 1"
   ]
  },
  {
   "cell_type": "code",
   "execution_count": 8,
   "id": "f3654bca",
   "metadata": {},
   "outputs": [
    {
     "data": {
      "text/plain": [
       "(3,\n",
       " [1, 2, 3],\n",
       " 'Hello',\n",
       " [1, 'Java', 3],\n",
       " (5, 2, 6),\n",
       " {'Demo', 'Sample', 'World'},\n",
       " ['C++', 'Java', 'C'])"
      ]
     },
     "execution_count": 8,
     "metadata": {},
     "output_type": "execute_result"
    }
   ],
   "source": [
    "a = 3\n",
    "my_list1 = list((1, 2, 3))\n",
    "msg = 'Hello'\n",
    "my_list2 = [1, 'Java', 3]\n",
    "my_tuple = (5, 2, 6)\n",
    "my_set = {'World', 'Demo', 'Sample'}\n",
    "my_list3 = ['C++', 'Java', 'C']\n",
    "a, my_list1, msg, my_list2, my_tuple, my_set, my_list3"
   ]
  },
  {
   "cell_type": "markdown",
   "id": "580ebaf0",
   "metadata": {},
   "source": [
    "### Task 2"
   ]
  },
  {
   "cell_type": "code",
   "execution_count": 6,
   "id": "d5dd8f1f",
   "metadata": {},
   "outputs": [
    {
     "data": {
      "text/plain": [
       "{'integer': 3,\n",
       " 'listA': [1, 2, 3],\n",
       " 'message': 'Hello',\n",
       " 'listB': [1, 'Java', 3],\n",
       " 'tupleA': (5, 2, 6),\n",
       " 'setA': {'Demo', 'Sample', 'World'},\n",
       " 'listC': ['C++', 'Java', 'C']}"
      ]
     },
     "execution_count": 6,
     "metadata": {},
     "output_type": "execute_result"
    }
   ],
   "source": [
    "my_dict = {'integer': a, 'listA': my_list1, 'message': msg, 'listB': my_list2, 'tupleA': my_tuple, 'setA': my_set, 'listC': my_list3}\n",
    "my_dict"
   ]
  },
  {
   "cell_type": "code",
   "execution_count": 4,
   "id": "8b06839b",
   "metadata": {},
   "outputs": [
    {
     "data": {
      "text/plain": [
       "dict_keys(['integer', 'listA', 'message', 'listB', 'tupleA', 'setA', 'listC'])"
      ]
     },
     "execution_count": 4,
     "metadata": {},
     "output_type": "execute_result"
    }
   ],
   "source": [
    "my_dict.keys()"
   ]
  },
  {
   "cell_type": "code",
   "execution_count": 5,
   "id": "5ea15c8f",
   "metadata": {},
   "outputs": [
    {
     "data": {
      "text/plain": [
       "dict_values([3, [1, 2, 3], 'Hello', [1, 'Java', 3], (5, 2, 6), {'Sample', 'Demo', 'World'}, ['C++', 'Java', 'C']])"
      ]
     },
     "execution_count": 5,
     "metadata": {},
     "output_type": "execute_result"
    }
   ],
   "source": [
    "my_dict.values()"
   ]
  }
 ],
 "metadata": {
  "kernelspec": {
   "display_name": "Python 3 (ipykernel)",
   "language": "python",
   "name": "python3"
  },
  "language_info": {
   "codemirror_mode": {
    "name": "ipython",
    "version": 3
   },
   "file_extension": ".py",
   "mimetype": "text/x-python",
   "name": "python",
   "nbconvert_exporter": "python",
   "pygments_lexer": "ipython3",
   "version": "3.9.13"
  }
 },
 "nbformat": 4,
 "nbformat_minor": 5
}
